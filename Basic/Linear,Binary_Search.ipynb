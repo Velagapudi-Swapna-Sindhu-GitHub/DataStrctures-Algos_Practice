{
 "cells": [
  {
   "cell_type": "markdown",
   "id": "3418bd10",
   "metadata": {},
   "source": [
    "### Q-1: Write a program to find the position of a given number from the list of numbers arranged in decreasing order. Also minimize the number of times accesing the elements from the list "
   ]
  },
  {
   "cell_type": "markdown",
   "id": "efc7e711",
   "metadata": {},
   "source": [
    "#### --> Linear search algorithm involves searching through a list in a linear fashion i.e element after element\n",
    "#### --> Time Complexity : O(N)\n",
    "#### --> Space Complexity : O(1)"
   ]
  },
  {
   "cell_type": "code",
   "execution_count": 29,
   "id": "9fd6d458",
   "metadata": {},
   "outputs": [
    {
     "name": "stdout",
     "output_type": "stream",
     "text": [
      "2\n"
     ]
    }
   ],
   "source": [
    "lis = [13,11,10,9,7,5,2,1]\n",
    "query = 10\n",
    "\n",
    "\n",
    "def linear_search(lis,query):\n",
    "    position = 0\n",
    "    while True:\n",
    "        if lis[position] == query:\n",
    "            return position\n",
    "        position+=1\n",
    "        if(position == len(lis)):\n",
    "            return \"No element found\"\n",
    "            \n",
    "print(linear_search(lis,query))\n"
   ]
  },
  {
   "cell_type": "code",
   "execution_count": 30,
   "id": "e3bbdec6",
   "metadata": {},
   "outputs": [],
   "source": [
    "## The above solution is not the efficient one as there more iterations."
   ]
  },
  {
   "cell_type": "markdown",
   "id": "47aeaaae",
   "metadata": {},
   "source": [
    "### ==>Apply the right technique to improve the efficiency."
   ]
  },
  {
   "cell_type": "code",
   "execution_count": 34,
   "id": "bb590d3a",
   "metadata": {},
   "outputs": [
    {
     "name": "stdout",
     "output_type": "stream",
     "text": [
      "2\n"
     ]
    }
   ],
   "source": [
    "lis = [13,11,10,9,7,5,2,1]\n",
    "query = 10\n",
    "\n",
    "def binary_search(lis,query):\n",
    "    fst = 0\n",
    "    lst = len(lis)-1\n",
    "    while fst<=lst:\n",
    "        avg = (fst+lst)//2\n",
    "        middle = lis[avg]\n",
    "        \n",
    "        if middle == query:\n",
    "            return avg\n",
    "        elif middle<query:\n",
    "            lst = avg-1\n",
    "        elif middle>query:\n",
    "            fst = avg+1\n",
    "    return \"No Element Found\"\n",
    "\n",
    "print(binary_search(lis,query))\n",
    "\n",
    "\n",
    "#this doesnot work when the numbers are repeated"
   ]
  },
  {
   "cell_type": "code",
   "execution_count": 35,
   "id": "7df67304",
   "metadata": {},
   "outputs": [],
   "source": [
    "#So, when duplicate exits,the solution would be,"
   ]
  },
  {
   "cell_type": "code",
   "execution_count": 44,
   "id": "9ef51a7f",
   "metadata": {},
   "outputs": [
    {
     "name": "stdout",
     "output_type": "stream",
     "text": [
      "2\n"
     ]
    }
   ],
   "source": [
    "lis = [8,8,6,6,6,6,6,6,3,2,2,2,0,0,0]\n",
    "query = 6\n",
    "\n",
    "def check_duplicate(lis,query,middle,avg):\n",
    "    if middle == query:\n",
    "        if lis[avg-1] == query and avg-1>=0:\n",
    "            return 'left'\n",
    "        else:\n",
    "            return 'found'\n",
    "    if middle>query:\n",
    "        return 'right'\n",
    "    \n",
    "    if middle<query:\n",
    "        return 'left'\n",
    "    \n",
    "    \n",
    "    \n",
    "def binary_search(lis,query):\n",
    "    fst = 0\n",
    "    lst = len(lis)-1\n",
    "    while fst<=lst:\n",
    "        avg = (fst+lst)//2\n",
    "        middle = lis[avg]\n",
    "        result = check_duplicate(lis,query,middle,avg)\n",
    "                    \n",
    "        if result == 'found':\n",
    "            return avg\n",
    "        elif result == 'right':\n",
    "            fst = avg+1\n",
    "        elif result == 'left':\n",
    "            lst = avg-1\n",
    "    return \"No Element Found\"\n",
    "                    \n",
    "print(binary_search(lis,query))\n",
    "    "
   ]
  },
  {
   "cell_type": "markdown",
   "id": "f098fb20",
   "metadata": {},
   "source": [
    "#### --> Time Complexity : O(log N)\n",
    "#### --> Space Complexity : O(1)"
   ]
  },
  {
   "cell_type": "code",
   "execution_count": 46,
   "id": "fbd668d1",
   "metadata": {},
   "outputs": [],
   "source": [
    "#Binary Search verson is much more faster than linear search as it reduces its execution time by reducing the number of iterations. "
   ]
  },
  {
   "cell_type": "code",
   "execution_count": null,
   "id": "84f0d63e",
   "metadata": {},
   "outputs": [],
   "source": []
  }
 ],
 "metadata": {
  "kernelspec": {
   "display_name": "Python 3 (ipykernel)",
   "language": "python",
   "name": "python3"
  },
  "language_info": {
   "codemirror_mode": {
    "name": "ipython",
    "version": 3
   },
   "file_extension": ".py",
   "mimetype": "text/x-python",
   "name": "python",
   "nbconvert_exporter": "python",
   "pygments_lexer": "ipython3",
   "version": "3.9.7"
  }
 },
 "nbformat": 4,
 "nbformat_minor": 5
}
